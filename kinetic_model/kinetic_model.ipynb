{
 "cells": [
  {
   "cell_type": "markdown",
   "id": "90057bc9-58f7-4908-921f-0226d9f791b9",
   "metadata": {},
   "source": [
    "We computed electronic couplings between the various states at QM level.\n",
    "We can model the kinetics of the generation of the Charge Separated State with a set of coupled differential equations describing the population of each state."
   ]
  },
  {
   "cell_type": "markdown",
   "id": "c7d0796c-619c-4f6b-bd77-ef1d6961e6bb",
   "metadata": {},
   "source": [
    "\\begin{align}\n",
    "\\dot{P}_{S_0} & = (k_{em} + k_{nr}) \\cdot P_{S_1} \\\\\n",
    "\\dot{P}_{S_1} & =  -(k_{em} + k_{nr} + k_{ISC}) \\cdot P_{S_1} + k_{rISC} P_{T_1} \\\\\n",
    "\\dot{P}_{T_1} & = k_{ISC} \\cdot P_{S_1} - k_{rISC} \\cdot P_{T_1} \\\\\n",
    "\\end{align}"
   ]
  },
  {
   "cell_type": "markdown",
   "id": "238d8adf-898f-4f45-9e36-d298de73fdd2",
   "metadata": {},
   "source": [
    "Gathering populations of state in a vector $\\mathbf{P}$ we can write this set of coupled equations in matrix form, as in\n",
    "\n",
    "\\begin{equation}\n",
    "\\dot{\\mathbf{P}}(t) = \\mathbf{K} \\mathbf{P}(t)\n",
    "\\end{equation}\n",
    "\n",
    "where we have defined the matrix of rate constants $\\mathbf{K}$ as in the following.\n",
    "\n",
    "\\begin{equation}\n",
    "\\mathbf{K} = \\begin{pmatrix} 0 & (k_{em} + k_{nr}) & 0 \\\\ 0 & -(k_{em} + k_{ISC} + k_{nr}) & k_{rISC} \\\\ 0 & k_{ISC} & -k_{rISC} \\end{pmatrix}\n",
    "\\end{equation}"
   ]
  },
  {
   "cell_type": "code",
   "execution_count": null,
   "id": "05b1d062-9bdf-42cb-aed6-fed3111d1393",
   "metadata": {},
   "outputs": [],
   "source": [
    "import numpy as np\n",
    "import pandas as pd\n",
    "from scipy.integrate import odeint\n",
    "\n",
    "df = pd.read_csv(\"rate_constants.csv\")\n",
    "\n",
    "mdls = df[\"Dye\"]\n",
    "rates = df[[\"k_em / Hz\", \"k_ISC / Hz\", \"k_rISC / Hz\", \"k_nr / Hz\"]]"
   ]
  },
  {
   "cell_type": "code",
   "execution_count": null,
   "id": "95a21a0e-0a50-4794-ba5d-3dbc7d4998e2",
   "metadata": {},
   "outputs": [],
   "source": [
    "# Define rate constants matrix\n",
    "def make_K_matrix(*rates):\n",
    "    \n",
    "    K = np.zeros((3,3))\n",
    "    K[0,1] = rates[0] + rates[-1] # (k_em + k_nr)\n",
    "    K[1,1] = -(rates[0] + rates[1] + rates[-1]) # -(k_em + k_ISC + k_nr)\n",
    "    K[1,2] = rates[2] # k_rISC\n",
    "    K[2,1] = rates[1] # k_ISC\n",
    "    K[2,2] = -rates[2] # -k_rISC\n",
    "    \n",
    "    return K\n",
    "\n",
    "# Define population derivatives in time\n",
    "def dPdt(P, t, K):\n",
    "    return np.dot(K, P)\n",
    "\n",
    "# Define time window\n",
    "t = np.arange(0, 1e-2, 1e-10)\n",
    "\n",
    "# Define initial conditions\n",
    "P0 = np.zeros(3)\n",
    "\n",
    "# Initial population from electrical excitation\n",
    "P0[1] = 0.25\n",
    "P0[2] = 0.75"
   ]
  },
  {
   "cell_type": "code",
   "execution_count": null,
   "id": "f496b35d-2ffd-4563-90a8-d53ceaf716a3",
   "metadata": {},
   "outputs": [],
   "source": [
    "import matplotlib\n",
    "import matplotlib.pyplot as plt\n",
    "from matplotlib import rc, ticker, gridspec\n",
    "rc('font',**{'family':'sans-serif','sans-serif':['Helvetica']})\n",
    "rc('text', usetex=True)\n",
    "\n",
    "\n",
    "# Define a function to plot solutions to the system of coupled ODEs for each\n",
    "# model\n",
    "def plot_pops(t, sol, mdl_name):\n",
    "    \n",
    "    fig = plt.figure(figsize=(12, 9))\n",
    "    gs = gridspec.GridSpec(1, 1)\n",
    "\n",
    "    ax = plt.subplot(gs[0])\n",
    "\n",
    "    ax.plot(t, sol[:,0], lw=2, color=\"b\", label=r\"S$_0$\")\n",
    "    ax.plot(t, sol[:,1], lw=2, color=\"g\", label=r\"S$_1$\")\n",
    "    ax.plot(t, sol[:,2], lw=2, color=\"r\", label=r\"T$_1$\")\n",
    "\n",
    "    ax.set_xlabel(r\"$t$ / s\", size=30, labelpad=5)\n",
    "    ax.set_ylabel(r\"$P$\", size=30, labelpad=5)\n",
    "\n",
    "    # ax.set_xlim(0,1e6)\n",
    "    ax.set_ylim(0, 1)\n",
    "    ax.set_xscale('log')\n",
    "    \n",
    "    # xtickmaj = ticker.MultipleLocator(100)\n",
    "    # xtickmin = ticker.AutoMinorLocator(5)\n",
    "    ytickmaj = ticker.MultipleLocator(0.25)\n",
    "    ytickmin = ticker.AutoMinorLocator(4)\n",
    "    \n",
    "    # ax.xaxis.set_major_locator(xtickmaj)\n",
    "    # ax.xaxis.set_minor_locator(xtickmin)\n",
    "    ax.yaxis.set_major_locator(ytickmaj)\n",
    "    ax.yaxis.set_minor_locator(ytickmin)\n",
    "    ax.xaxis.set_ticks_position('both')\n",
    "    ax.yaxis.set_ticks_position('both')\n",
    "    ax.tick_params(axis='both', which='major', direction='in', labelsize=28, pad=10, length=5)\n",
    "    ax.tick_params(axis='both', which='minor', direction='in', labelsize=28, pad=10, length=2)\n",
    "\n",
    "    ax.legend(loc=1, fontsize=22, frameon=False)\n",
    "\n",
    "    plt.title(\"%s\" % mdl_name, size=32)\n",
    "    plt.savefig(\"%s.svg\" % mdl_name.replace(\" \", \"_\"), dpi=600)\n",
    "    plt.show()\n",
    "    \n",
    "    return"
   ]
  },
  {
   "cell_type": "code",
   "execution_count": null,
   "id": "b443b102-19b8-43fb-a999-0fd38ef17b29",
   "metadata": {},
   "outputs": [],
   "source": [
    "# Loop over models\n",
    "for i, mdl in enumerate(mdls.values):\n",
    "    \n",
    "    # Define model name\n",
    "    mdl_name = mdl\n",
    "    \n",
    "    # Get avg rates\n",
    "    ks = rates.values[i] # * 1e-12\n",
    "    \n",
    "    # Define rate constants matrix\n",
    "    K = make_K_matrix(*ks)\n",
    "    \n",
    "    # Numerically integrate the system of ODEs\n",
    "    sol = odeint(dPdt, P0, t, args=(K,))\n",
    "    \n",
    "    # plot the solutions\n",
    "    plot_pops(t, sol, mdl_name)"
   ]
  },
  {
   "cell_type": "code",
   "execution_count": null,
   "id": "d6489045-dcb9-480a-a087-0822a7667336",
   "metadata": {},
   "outputs": [],
   "source": []
  }
 ],
 "metadata": {
  "kernelspec": {
   "display_name": "Python 3 (ipykernel)",
   "language": "python",
   "name": "python3"
  },
  "language_info": {
   "codemirror_mode": {
    "name": "ipython",
    "version": 3
   },
   "file_extension": ".py",
   "mimetype": "text/x-python",
   "name": "python",
   "nbconvert_exporter": "python",
   "pygments_lexer": "ipython3",
   "version": "3.7.11"
  }
 },
 "nbformat": 4,
 "nbformat_minor": 5
}
